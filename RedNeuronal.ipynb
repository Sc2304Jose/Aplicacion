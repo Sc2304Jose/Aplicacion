{
  "nbformat": 4,
  "nbformat_minor": 0,
  "metadata": {
    "colab": {
      "name": "RedNeuronal.ipynb",
      "provenance": [],
      "authorship_tag": "ABX9TyPFscohfFynheTK7Mh+C/Bo",
      "include_colab_link": true
    },
    "kernelspec": {
      "name": "python3",
      "display_name": "Python 3"
    },
    "language_info": {
      "name": "python"
    }
  },
  "cells": [
    {
      "cell_type": "markdown",
      "metadata": {
        "id": "view-in-github",
        "colab_type": "text"
      },
      "source": [
        "<a href=\"https://colab.research.google.com/github/Sc2304Jose/Aplicacion/blob/main/RedNeuronal.ipynb\" target=\"_parent\"><img src=\"https://colab.research.google.com/assets/colab-badge.svg\" alt=\"Open In Colab\"/></a>"
      ]
    },
    {
      "cell_type": "markdown",
      "metadata": {
        "id": "0elAJyQTkF0I"
      },
      "source": [
        "###Programando una red neuronal desde 0."
      ]
    },
    {
      "cell_type": "code",
      "metadata": {
        "id": "DNRHoJ_8kQkN"
      },
      "source": [
        "import numpy as np\n",
        "import scipy as sc\n",
        "import matplotlib.pyplot as plt\n",
        "\n",
        "\n",
        "from sklearn.datasets import make_circles"
      ],
      "execution_count": null,
      "outputs": []
    },
    {
      "cell_type": "code",
      "metadata": {
        "colab": {
          "base_uri": "https://localhost:8080/",
          "height": 282
        },
        "id": "_X9Q61_qlMTe",
        "outputId": "721e6151-8fad-4a12-cb6e-890106dcb64d"
      },
      "source": [
        "##Crear DataSet\n",
        "\n",
        "n=500\n",
        "p=2\n",
        "X,Y = make_circles(n_samples=n, factor=0.5, noise=0.05, )\n",
        "\n",
        "Y = Y [:,np.newaxis]\n",
        "\n",
        "plt.scatter(X[Y[:,0] == 0, 0], X[Y[:,0]== 0, 1], c=\"orange\")\n",
        "plt.scatter(X[Y[:,0] == 1, 0], X[Y[:,0]== 1, 1], c=\"gray\")\n",
        "plt.axis(\"equal\")\n",
        "plt.show"
      ],
      "execution_count": null,
      "outputs": [
        {
          "output_type": "execute_result",
          "data": {
            "text/plain": [
              "<function matplotlib.pyplot.show>"
            ]
          },
          "metadata": {
            "tags": []
          },
          "execution_count": 104
        },
        {
          "output_type": "display_data",
          "data": {
            "image/png": "[encoded data removed]",
            "text/plain": [
              "<Figure size 432x288 with 1 Axes>"
            ]
          },
          "metadata": {
            "tags": [],
            "needs_background": "light"
          }
        }
      ]
    },
    {
      "cell_type": "code",
      "metadata": {
        "id": "u6r4Grndnu5m"
      },
      "source": [
        "# clase capa de la red\n",
        "\n",
        "class neural_layer():\n",
        "  def __init__ (self,n_Conexiones, n_Neurona, activation_funtion):\n",
        "    self.activation_funtion = activation_funtion\n",
        "\n",
        "    self.b = np.random.rand(1, self.n_Neurona) * 2-1\n",
        "    self.W = np.random.rand(self.n_Conexinones, self.n_Neurona)*2-1\n"
      ],
      "execution_count": null,
      "outputs": []
    },
    {
      "cell_type": "code",
      "metadata": {
        "colab": {
          "base_uri": "https://localhost:8080/",
          "height": 282
        },
        "id": "mP_DKjKHuid4",
        "outputId": "56a60cf9-d93b-4328-96e8-647a42664274"
      },
      "source": [
        "# creando Funciones de Activacion\n",
        "sigm=(lambda x:1/(1+np.e**(-x)),\n",
        "      lambda x:x*(1-x))\n",
        "\n",
        "relu= lambda x:np.maximum(0,x)\n",
        "\n",
        "_x = np.linspace(-5,5,100)\n",
        "plt.plot(_x, sigm[0](_x),c=\"pink\")\n",
        "#plt.plot(_x, sigm[1](_x),c=\"red\")\n",
        "#plt.plot(_x,relu(_x),c=\"blue\")"
      ],
      "execution_count": null,
      "outputs": [
        {
          "output_type": "execute_result",
          "data": {
            "text/plain": [
              "[<matplotlib.lines.Line2D at 0x7f98b13dbf90>]"
            ]
          },
          "metadata": {
            "tags": []
          },
          "execution_count": 108
        },
        {
          "output_type": "display_data",
          "data": {
            "image/png": "[encoded data removed]",
            "text/plain": [
              "<Figure size 432x288 with 1 Axes>"
            ]
          },
          "metadata": {
            "tags": [],
            "needs_background": "light"
          }
        }
      ]
    },
    {
      "cell_type": "code",
      "metadata": {
        "id": "HU3SI3Qsx0d_"
      },
      "source": [
        "l0 = neural_layer(p, 4, sigm) \n",
        "l1 = neural_layer(4, 8, sigm)\n",
        "#.....\n"
      ],
      "execution_count": null,
      "outputs": []
    },
    {
      "cell_type": "code",
      "metadata": {
        "id": "_JmrDTsa80n7"
      },
      "source": [
        "\n",
        "def create_nn(topology, activation_funtion):\n",
        "  nn = [ ]\n",
        "  for l, layer in enumerate (topology[:-1]):\n",
        "    nn.append(neural_layer(topology[1], topology[l+1], activation_funtion))\n",
        "  \n",
        "  return nn"
      ],
      "execution_count": null,
      "outputs": []
    },
    {
      "cell_type": "code",
      "metadata": {
        "id": "4mHcBXxt-sXx"
      },
      "source": [
        "topology = [p, 4, 8, 16, 8, 4, 1] \n",
        "\n",
        "neural_net = create_nn(topology, sigm)\n",
        "\n",
        "l2_cost = (lambda Yp, Yr :np.mean( (Yp.Yr) ** 2),\n",
        "          lambda Yp, Yr:(Yp-Yr)) \n",
        "\n",
        "def train(neural_net, X, Y, l2_cost, lr=0.5, train = True):\n",
        "  out = [(None, X) ]\n",
        "\n",
        "  # forward pass\n",
        "  z = out[-1][1] @ neural_net[l].W + neural_net[l].b\n",
        "  a = neural_net[l].activation_funtion[0](z)\n",
        "  out.append((z,a))\n",
        "  \n",
        "  print(l2_cost[0] (out[-1][1], Y))\n",
        "  \n",
        "  if train:\n",
        "    # Backward pass \n",
        "    deltas = []\n",
        "     \n",
        "    for l in reversed(rande(0,len(neural_net))):\n",
        "      z = out[l+1][0] \n",
        "      a = out[l+1][1] \n",
        "\n",
        "      print(a.shape)\n",
        "\n",
        "      if l== len(neural_net) - 1:\n",
        "        deltas.insert(0, l2_cost[1](a, Y) * neural_net[l].activation_funtion[1](a)) \n",
        "        print(deltas.shape)\n",
        "      else:\n",
        "        deltas.insert(0, deltas[0] @ _W.T * neural_net[l].activation_funtion[1](a)) \n",
        "        print(deltas.shape)\n",
        "\n",
        "      _W= neural_net[l].W\n",
        "\n",
        "      #Gradien Decent \n",
        "      neural_net[1].b = neural_net[1].b - np.mean(deltas[0], axis = 0, keepdims=true) * lr\n",
        "      neural_net[1].W = neural_net[1].W - out[l][1].T @ deltas[0] * lr\n",
        "\n",
        "    return out[-1][1]\n",
        "\n",
        "train (neural_net, X, Y, l2_cost, 0.5)\n"
      ],
      "execution_count": null,
      "outputs": []
    },
    {
      "cell_type": "code",
      "metadata": {
        "id": "1Yas-IEyE2RZ"
      },
      "source": [
        ""
      ],
      "execution_count": null,
      "outputs": []
    }
  ]
}